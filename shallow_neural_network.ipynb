{
 "cells": [
  {
   "cell_type": "markdown",
   "id": "bfb65dc3",
   "metadata": {},
   "source": [
    "# An implementation of gradient descent to optimize shallow neural network's parameters"
   ]
  },
  {
   "cell_type": "code",
   "execution_count": 1,
   "id": "cfbbd7c5",
   "metadata": {},
   "outputs": [],
   "source": [
    "import numpy as np"
   ]
  },
  {
   "cell_type": "markdown",
   "id": "fc706651",
   "metadata": {},
   "source": [
    "# Helper functions"
   ]
  },
  {
   "cell_type": "markdown",
   "id": "228f1c64",
   "metadata": {},
   "source": [
    "### Activation functions"
   ]
  },
  {
   "cell_type": "code",
   "execution_count": 8,
   "id": "1dce7abc",
   "metadata": {},
   "outputs": [
    {
     "name": "stdout",
     "output_type": "stream",
     "text": [
      "ReLu(Z_test) = [[0 2 3 0]\n",
      " [1 5 0 2]]\n"
     ]
    }
   ],
   "source": [
    "# ReLu\n",
    "def ReLu(Z):\n",
    "    \"\"\"\n",
    "    This function applies a ReLu transformation to the input Z.\n",
    "    \"\"\"\n",
    "    \n",
    "    return np.maximum(0, Z)\n",
    "\n",
    "\n",
    "# test\n",
    "Z_test = np.array([[-1, 2, 3, -4], [1, 5, -3, 2]])\n",
    "print(\"ReLu(Z_test) =\", ReLu(Z_test))"
   ]
  },
  {
   "cell_type": "code",
   "execution_count": 9,
   "id": "5ec71ac3",
   "metadata": {},
   "outputs": [
    {
     "name": "stdout",
     "output_type": "stream",
     "text": [
      "sigmoid(Z_test) = [[0.73105858 0.11920292 0.04742587 0.98201379]\n",
      " [0.26894142 0.00669285 0.95257413 0.11920292]]\n"
     ]
    }
   ],
   "source": [
    "# sigmoid\n",
    "def sigmoid(Z):\n",
    "    \"\"\"\n",
    "    This function applies a Sigmoid transformation to the input Z.\n",
    "    \"\"\"\n",
    "    \n",
    "    return 1 / (1 + np.exp(Z))\n",
    "\n",
    "\n",
    "# test\n",
    "Z_test = np.array([[-1, 2, 3, -4], [1, 5, -3, 2]])\n",
    "print(\"sigmoid(Z_test) =\", sigmoid(Z_test))"
   ]
  },
  {
   "cell_type": "markdown",
   "id": "72c5c55f",
   "metadata": {},
   "source": [
    "### Forward propagation"
   ]
  },
  {
   "cell_type": "markdown",
   "id": "9d8693eb",
   "metadata": {},
   "source": [
    "### <span style=\"color:red\">TODO</span>"
   ]
  },
  {
   "cell_type": "code",
   "execution_count": null,
   "id": "1ed61b71",
   "metadata": {},
   "outputs": [],
   "source": [
    "# one layer of forward prop\n",
    "def get_activations(A_input, W, b, activation):\n",
    "    \"\"\"\n",
    "    This function computes and returns the activisions of one layer of neurons.\n",
    "    \"\"\"\n",
    "    \n",
    "    Z = np.dot(W, A_input) + b\n",
    "    return activision(Z)\n",
    "\n",
    "\n",
    "# test\n",
    "A_input_test = np.array([[-1, 2, 3, -4], [1, 5, -3, 2]])\n",
    "W_test = np.array([[1, 2], [0, -1], []])"
   ]
  }
 ],
 "metadata": {
  "kernelspec": {
   "display_name": "Python 3 (ipykernel)",
   "language": "python",
   "name": "python3"
  },
  "language_info": {
   "codemirror_mode": {
    "name": "ipython",
    "version": 3
   },
   "file_extension": ".py",
   "mimetype": "text/x-python",
   "name": "python",
   "nbconvert_exporter": "python",
   "pygments_lexer": "ipython3",
   "version": "3.8.10"
  }
 },
 "nbformat": 4,
 "nbformat_minor": 5
}
