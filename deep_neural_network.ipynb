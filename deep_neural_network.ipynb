{
 "cells": [
  {
   "cell_type": "markdown",
   "id": "59b4779e",
   "metadata": {},
   "source": [
    "# Implementation of deep NN using numpy"
   ]
  },
  {
   "cell_type": "code",
   "execution_count": 1,
   "id": "eca81920",
   "metadata": {},
   "outputs": [],
   "source": [
    "import numpy as np\n",
    "import pandas as pd\n",
    "import matplotlib.pyplot as plt"
   ]
  },
  {
   "cell_type": "markdown",
   "id": "e25fd92b",
   "metadata": {},
   "source": [
    "## Preparing the model dataset"
   ]
  },
  {
   "cell_type": "markdown",
   "id": "a81a7674",
   "metadata": {},
   "source": [
    "### Import the Titanic dataset (from Kaggle)"
   ]
  },
  {
   "cell_type": "code",
   "execution_count": 2,
   "id": "fe20558a",
   "metadata": {},
   "outputs": [
    {
     "data": {
      "text/html": [
       "<div>\n",
       "<style scoped>\n",
       "    .dataframe tbody tr th:only-of-type {\n",
       "        vertical-align: middle;\n",
       "    }\n",
       "\n",
       "    .dataframe tbody tr th {\n",
       "        vertical-align: top;\n",
       "    }\n",
       "\n",
       "    .dataframe thead th {\n",
       "        text-align: right;\n",
       "    }\n",
       "</style>\n",
       "<table border=\"1\" class=\"dataframe\">\n",
       "  <thead>\n",
       "    <tr style=\"text-align: right;\">\n",
       "      <th></th>\n",
       "      <th>PassengerId</th>\n",
       "      <th>Survived</th>\n",
       "      <th>Pclass</th>\n",
       "      <th>Name</th>\n",
       "      <th>Sex</th>\n",
       "      <th>Age</th>\n",
       "      <th>SibSp</th>\n",
       "      <th>Parch</th>\n",
       "      <th>Ticket</th>\n",
       "      <th>Fare</th>\n",
       "      <th>Cabin</th>\n",
       "      <th>Embarked</th>\n",
       "    </tr>\n",
       "  </thead>\n",
       "  <tbody>\n",
       "    <tr>\n",
       "      <th>0</th>\n",
       "      <td>1</td>\n",
       "      <td>0</td>\n",
       "      <td>3</td>\n",
       "      <td>Braund, Mr. Owen Harris</td>\n",
       "      <td>male</td>\n",
       "      <td>22.0</td>\n",
       "      <td>1</td>\n",
       "      <td>0</td>\n",
       "      <td>A/5 21171</td>\n",
       "      <td>7.2500</td>\n",
       "      <td>NaN</td>\n",
       "      <td>S</td>\n",
       "    </tr>\n",
       "    <tr>\n",
       "      <th>1</th>\n",
       "      <td>2</td>\n",
       "      <td>1</td>\n",
       "      <td>1</td>\n",
       "      <td>Cumings, Mrs. John Bradley (Florence Briggs Th...</td>\n",
       "      <td>female</td>\n",
       "      <td>38.0</td>\n",
       "      <td>1</td>\n",
       "      <td>0</td>\n",
       "      <td>PC 17599</td>\n",
       "      <td>71.2833</td>\n",
       "      <td>C85</td>\n",
       "      <td>C</td>\n",
       "    </tr>\n",
       "    <tr>\n",
       "      <th>2</th>\n",
       "      <td>3</td>\n",
       "      <td>1</td>\n",
       "      <td>3</td>\n",
       "      <td>Heikkinen, Miss. Laina</td>\n",
       "      <td>female</td>\n",
       "      <td>26.0</td>\n",
       "      <td>0</td>\n",
       "      <td>0</td>\n",
       "      <td>STON/O2. 3101282</td>\n",
       "      <td>7.9250</td>\n",
       "      <td>NaN</td>\n",
       "      <td>S</td>\n",
       "    </tr>\n",
       "    <tr>\n",
       "      <th>3</th>\n",
       "      <td>4</td>\n",
       "      <td>1</td>\n",
       "      <td>1</td>\n",
       "      <td>Futrelle, Mrs. Jacques Heath (Lily May Peel)</td>\n",
       "      <td>female</td>\n",
       "      <td>35.0</td>\n",
       "      <td>1</td>\n",
       "      <td>0</td>\n",
       "      <td>113803</td>\n",
       "      <td>53.1000</td>\n",
       "      <td>C123</td>\n",
       "      <td>S</td>\n",
       "    </tr>\n",
       "    <tr>\n",
       "      <th>4</th>\n",
       "      <td>5</td>\n",
       "      <td>0</td>\n",
       "      <td>3</td>\n",
       "      <td>Allen, Mr. William Henry</td>\n",
       "      <td>male</td>\n",
       "      <td>35.0</td>\n",
       "      <td>0</td>\n",
       "      <td>0</td>\n",
       "      <td>373450</td>\n",
       "      <td>8.0500</td>\n",
       "      <td>NaN</td>\n",
       "      <td>S</td>\n",
       "    </tr>\n",
       "  </tbody>\n",
       "</table>\n",
       "</div>"
      ],
      "text/plain": [
       "   PassengerId  Survived  Pclass  \\\n",
       "0            1         0       3   \n",
       "1            2         1       1   \n",
       "2            3         1       3   \n",
       "3            4         1       1   \n",
       "4            5         0       3   \n",
       "\n",
       "                                                Name     Sex   Age  SibSp  \\\n",
       "0                            Braund, Mr. Owen Harris    male  22.0      1   \n",
       "1  Cumings, Mrs. John Bradley (Florence Briggs Th...  female  38.0      1   \n",
       "2                             Heikkinen, Miss. Laina  female  26.0      0   \n",
       "3       Futrelle, Mrs. Jacques Heath (Lily May Peel)  female  35.0      1   \n",
       "4                           Allen, Mr. William Henry    male  35.0      0   \n",
       "\n",
       "   Parch            Ticket     Fare Cabin Embarked  \n",
       "0      0         A/5 21171   7.2500   NaN        S  \n",
       "1      0          PC 17599  71.2833   C85        C  \n",
       "2      0  STON/O2. 3101282   7.9250   NaN        S  \n",
       "3      0            113803  53.1000  C123        S  \n",
       "4      0            373450   8.0500   NaN        S  "
      ]
     },
     "execution_count": 2,
     "metadata": {},
     "output_type": "execute_result"
    }
   ],
   "source": [
    "df = pd.read_csv('train.csv')\n",
    "df.head(5)"
   ]
  },
  {
   "cell_type": "code",
   "execution_count": 3,
   "id": "91ccaa71",
   "metadata": {},
   "outputs": [
    {
     "data": {
      "text/plain": [
       "array([[<AxesSubplot:title={'center':'Survived'}>,\n",
       "        <AxesSubplot:title={'center':'Pclass'}>],\n",
       "       [<AxesSubplot:title={'center':'Age'}>,\n",
       "        <AxesSubplot:title={'center':'SibSp'}>],\n",
       "       [<AxesSubplot:title={'center':'Parch'}>,\n",
       "        <AxesSubplot:title={'center':'Fare'}>]], dtype=object)"
      ]
     },
     "execution_count": 3,
     "metadata": {},
     "output_type": "execute_result"
    },
    {
     "data": {
      "image/png": "[encoded data removed]",
      "text/plain": [
       "<Figure size 432x288 with 6 Axes>"
      ]
     },
     "metadata": {
      "needs_background": "light"
     },
     "output_type": "display_data"
    }
   ],
   "source": [
    "df.hist(column=['Survived', 'Pclass', 'Age', 'SibSp', 'Parch', 'Fare'])"
   ]
  },
  {
   "cell_type": "code",
   "execution_count": 4,
   "id": "a99e2ccd",
   "metadata": {},
   "outputs": [
    {
     "data": {
      "text/plain": [
       "<AxesSubplot:>"
      ]
     },
     "execution_count": 4,
     "metadata": {},
     "output_type": "execute_result"
    },
    {
     "data": {
      "image/png": "[encoded data removed]",
      "text/plain": [
       "<Figure size 432x288 with 1 Axes>"
      ]
     },
     "metadata": {
      "needs_background": "light"
     },
     "output_type": "display_data"
    }
   ],
   "source": [
    "df['Sex'].value_counts().plot(kind='bar')"
   ]
  },
  {
   "cell_type": "code",
   "execution_count": 5,
   "id": "4d27bcd6",
   "metadata": {},
   "outputs": [
    {
     "data": {
      "text/plain": [
       "<AxesSubplot:>"
      ]
     },
     "execution_count": 5,
     "metadata": {},
     "output_type": "execute_result"
    },
    {
     "data": {
      "image/png": "[encoded data removed]",
      "text/plain": [
       "<Figure size 432x288 with 1 Axes>"
      ]
     },
     "metadata": {
      "needs_background": "light"
     },
     "output_type": "display_data"
    }
   ],
   "source": [
    "df['Embarked'].value_counts().plot(kind='bar')"
   ]
  },
  {
   "cell_type": "markdown",
   "id": "1f3f01ae",
   "metadata": {},
   "source": [
    "### One-hot encode columns of categorical values"
   ]
  },
  {
   "cell_type": "code",
   "execution_count": 6,
   "id": "3d6f2e7f",
   "metadata": {},
   "outputs": [
    {
     "data": {
      "text/html": [
       "<div>\n",
       "<style scoped>\n",
       "    .dataframe tbody tr th:only-of-type {\n",
       "        vertical-align: middle;\n",
       "    }\n",
       "\n",
       "    .dataframe tbody tr th {\n",
       "        vertical-align: top;\n",
       "    }\n",
       "\n",
       "    .dataframe thead th {\n",
       "        text-align: right;\n",
       "    }\n",
       "</style>\n",
       "<table border=\"1\" class=\"dataframe\">\n",
       "  <thead>\n",
       "    <tr style=\"text-align: right;\">\n",
       "      <th></th>\n",
       "      <th>Sex_female</th>\n",
       "      <th>Sex_male</th>\n",
       "    </tr>\n",
       "  </thead>\n",
       "  <tbody>\n",
       "    <tr>\n",
       "      <th>0</th>\n",
       "      <td>0</td>\n",
       "      <td>1</td>\n",
       "    </tr>\n",
       "    <tr>\n",
       "      <th>1</th>\n",
       "      <td>1</td>\n",
       "      <td>0</td>\n",
       "    </tr>\n",
       "    <tr>\n",
       "      <th>2</th>\n",
       "      <td>1</td>\n",
       "      <td>0</td>\n",
       "    </tr>\n",
       "    <tr>\n",
       "      <th>3</th>\n",
       "      <td>1</td>\n",
       "      <td>0</td>\n",
       "    </tr>\n",
       "    <tr>\n",
       "      <th>4</th>\n",
       "      <td>0</td>\n",
       "      <td>1</td>\n",
       "    </tr>\n",
       "  </tbody>\n",
       "</table>\n",
       "</div>"
      ],
      "text/plain": [
       "   Sex_female  Sex_male\n",
       "0           0         1\n",
       "1           1         0\n",
       "2           1         0\n",
       "3           1         0\n",
       "4           0         1"
      ]
     },
     "execution_count": 6,
     "metadata": {},
     "output_type": "execute_result"
    }
   ],
   "source": [
    "df_sex = pd.get_dummies(df['Sex'], prefix='Sex')\n",
    "df_sex.head()"
   ]
  },
  {
   "cell_type": "code",
   "execution_count": 7,
   "id": "f361d871",
   "metadata": {},
   "outputs": [
    {
     "data": {
      "text/html": [
       "<div>\n",
       "<style scoped>\n",
       "    .dataframe tbody tr th:only-of-type {\n",
       "        vertical-align: middle;\n",
       "    }\n",
       "\n",
       "    .dataframe tbody tr th {\n",
       "        vertical-align: top;\n",
       "    }\n",
       "\n",
       "    .dataframe thead th {\n",
       "        text-align: right;\n",
       "    }\n",
       "</style>\n",
       "<table border=\"1\" class=\"dataframe\">\n",
       "  <thead>\n",
       "    <tr style=\"text-align: right;\">\n",
       "      <th></th>\n",
       "      <th>Embarked_C</th>\n",
       "      <th>Embarked_Q</th>\n",
       "      <th>Embarked_S</th>\n",
       "    </tr>\n",
       "  </thead>\n",
       "  <tbody>\n",
       "    <tr>\n",
       "      <th>0</th>\n",
       "      <td>0</td>\n",
       "      <td>0</td>\n",
       "      <td>1</td>\n",
       "    </tr>\n",
       "    <tr>\n",
       "      <th>1</th>\n",
       "      <td>1</td>\n",
       "      <td>0</td>\n",
       "      <td>0</td>\n",
       "    </tr>\n",
       "    <tr>\n",
       "      <th>2</th>\n",
       "      <td>0</td>\n",
       "      <td>0</td>\n",
       "      <td>1</td>\n",
       "    </tr>\n",
       "    <tr>\n",
       "      <th>3</th>\n",
       "      <td>0</td>\n",
       "      <td>0</td>\n",
       "      <td>1</td>\n",
       "    </tr>\n",
       "    <tr>\n",
       "      <th>4</th>\n",
       "      <td>0</td>\n",
       "      <td>0</td>\n",
       "      <td>1</td>\n",
       "    </tr>\n",
       "  </tbody>\n",
       "</table>\n",
       "</div>"
      ],
      "text/plain": [
       "   Embarked_C  Embarked_Q  Embarked_S\n",
       "0           0           0           1\n",
       "1           1           0           0\n",
       "2           0           0           1\n",
       "3           0           0           1\n",
       "4           0           0           1"
      ]
     },
     "execution_count": 7,
     "metadata": {},
     "output_type": "execute_result"
    }
   ],
   "source": [
    "df_embarked = pd.get_dummies(df['Embarked'], prefix='Embarked')\n",
    "df_embarked.head()"
   ]
  },
  {
   "cell_type": "markdown",
   "id": "f1f3ec0a",
   "metadata": {},
   "source": [
    "### Create numpy arrays to store both input data and y"
   ]
  },
  {
   "cell_type": "code",
   "execution_count": 8,
   "id": "41ee3fb1",
   "metadata": {},
   "outputs": [],
   "source": [
    "# number of observations\n",
    "m = df.shape[0]"
   ]
  },
  {
   "cell_type": "code",
   "execution_count": 9,
   "id": "00d162f6",
   "metadata": {},
   "outputs": [
    {
     "data": {
      "text/plain": [
       "(1, 891)"
      ]
     },
     "execution_count": 9,
     "metadata": {},
     "output_type": "execute_result"
    }
   ],
   "source": [
    "# array for Y\n",
    "Y = np.array(df['Survived']).reshape(1, m)\n",
    "Y.shape"
   ]
  },
  {
   "cell_type": "code",
   "execution_count": 10,
   "id": "5ce9305c",
   "metadata": {},
   "outputs": [
    {
     "data": {
      "text/html": [
       "<div>\n",
       "<style scoped>\n",
       "    .dataframe tbody tr th:only-of-type {\n",
       "        vertical-align: middle;\n",
       "    }\n",
       "\n",
       "    .dataframe tbody tr th {\n",
       "        vertical-align: top;\n",
       "    }\n",
       "\n",
       "    .dataframe thead th {\n",
       "        text-align: right;\n",
       "    }\n",
       "</style>\n",
       "<table border=\"1\" class=\"dataframe\">\n",
       "  <thead>\n",
       "    <tr style=\"text-align: right;\">\n",
       "      <th></th>\n",
       "      <th>Survived</th>\n",
       "      <th>Pclass</th>\n",
       "      <th>Age</th>\n",
       "      <th>SibSp</th>\n",
       "      <th>Parch</th>\n",
       "      <th>Fare</th>\n",
       "    </tr>\n",
       "  </thead>\n",
       "  <tbody>\n",
       "    <tr>\n",
       "      <th>0</th>\n",
       "      <td>0</td>\n",
       "      <td>3</td>\n",
       "      <td>22.0</td>\n",
       "      <td>1</td>\n",
       "      <td>0</td>\n",
       "      <td>7.2500</td>\n",
       "    </tr>\n",
       "    <tr>\n",
       "      <th>1</th>\n",
       "      <td>1</td>\n",
       "      <td>1</td>\n",
       "      <td>38.0</td>\n",
       "      <td>1</td>\n",
       "      <td>0</td>\n",
       "      <td>71.2833</td>\n",
       "    </tr>\n",
       "    <tr>\n",
       "      <th>2</th>\n",
       "      <td>1</td>\n",
       "      <td>3</td>\n",
       "      <td>26.0</td>\n",
       "      <td>0</td>\n",
       "      <td>0</td>\n",
       "      <td>7.9250</td>\n",
       "    </tr>\n",
       "    <tr>\n",
       "      <th>3</th>\n",
       "      <td>1</td>\n",
       "      <td>1</td>\n",
       "      <td>35.0</td>\n",
       "      <td>1</td>\n",
       "      <td>0</td>\n",
       "      <td>53.1000</td>\n",
       "    </tr>\n",
       "    <tr>\n",
       "      <th>4</th>\n",
       "      <td>0</td>\n",
       "      <td>3</td>\n",
       "      <td>35.0</td>\n",
       "      <td>0</td>\n",
       "      <td>0</td>\n",
       "      <td>8.0500</td>\n",
       "    </tr>\n",
       "    <tr>\n",
       "      <th>...</th>\n",
       "      <td>...</td>\n",
       "      <td>...</td>\n",
       "      <td>...</td>\n",
       "      <td>...</td>\n",
       "      <td>...</td>\n",
       "      <td>...</td>\n",
       "    </tr>\n",
       "    <tr>\n",
       "      <th>886</th>\n",
       "      <td>0</td>\n",
       "      <td>2</td>\n",
       "      <td>27.0</td>\n",
       "      <td>0</td>\n",
       "      <td>0</td>\n",
       "      <td>13.0000</td>\n",
       "    </tr>\n",
       "    <tr>\n",
       "      <th>887</th>\n",
       "      <td>1</td>\n",
       "      <td>1</td>\n",
       "      <td>19.0</td>\n",
       "      <td>0</td>\n",
       "      <td>0</td>\n",
       "      <td>30.0000</td>\n",
       "    </tr>\n",
       "    <tr>\n",
       "      <th>888</th>\n",
       "      <td>0</td>\n",
       "      <td>3</td>\n",
       "      <td>NaN</td>\n",
       "      <td>1</td>\n",
       "      <td>2</td>\n",
       "      <td>23.4500</td>\n",
       "    </tr>\n",
       "    <tr>\n",
       "      <th>889</th>\n",
       "      <td>1</td>\n",
       "      <td>1</td>\n",
       "      <td>26.0</td>\n",
       "      <td>0</td>\n",
       "      <td>0</td>\n",
       "      <td>30.0000</td>\n",
       "    </tr>\n",
       "    <tr>\n",
       "      <th>890</th>\n",
       "      <td>0</td>\n",
       "      <td>3</td>\n",
       "      <td>32.0</td>\n",
       "      <td>0</td>\n",
       "      <td>0</td>\n",
       "      <td>7.7500</td>\n",
       "    </tr>\n",
       "  </tbody>\n",
       "</table>\n",
       "<p>891 rows × 6 columns</p>\n",
       "</div>"
      ],
      "text/plain": [
       "     Survived  Pclass   Age  SibSp  Parch     Fare\n",
       "0           0       3  22.0      1      0   7.2500\n",
       "1           1       1  38.0      1      0  71.2833\n",
       "2           1       3  26.0      0      0   7.9250\n",
       "3           1       1  35.0      1      0  53.1000\n",
       "4           0       3  35.0      0      0   8.0500\n",
       "..        ...     ...   ...    ...    ...      ...\n",
       "886         0       2  27.0      0      0  13.0000\n",
       "887         1       1  19.0      0      0  30.0000\n",
       "888         0       3   NaN      1      2  23.4500\n",
       "889         1       1  26.0      0      0  30.0000\n",
       "890         0       3  32.0      0      0   7.7500\n",
       "\n",
       "[891 rows x 6 columns]"
      ]
     },
     "execution_count": 10,
     "metadata": {},
     "output_type": "execute_result"
    }
   ],
   "source": [
    "df[['Survived', 'Pclass', 'Age', 'SibSp', 'Parch', 'Fare']]"
   ]
  },
  {
   "cell_type": "code",
   "execution_count": 11,
   "id": "b6068434",
   "metadata": {},
   "outputs": [
    {
     "name": "stdout",
     "output_type": "stream",
     "text": [
      "df_X.shape = (891, 8)\n"
     ]
    },
    {
     "data": {
      "text/html": [
       "<div>\n",
       "<style scoped>\n",
       "    .dataframe tbody tr th:only-of-type {\n",
       "        vertical-align: middle;\n",
       "    }\n",
       "\n",
       "    .dataframe tbody tr th {\n",
       "        vertical-align: top;\n",
       "    }\n",
       "\n",
       "    .dataframe thead th {\n",
       "        text-align: right;\n",
       "    }\n",
       "</style>\n",
       "<table border=\"1\" class=\"dataframe\">\n",
       "  <thead>\n",
       "    <tr style=\"text-align: right;\">\n",
       "      <th></th>\n",
       "      <th>Pclass</th>\n",
       "      <th>Age</th>\n",
       "      <th>SibSp</th>\n",
       "      <th>Parch</th>\n",
       "      <th>Fare</th>\n",
       "      <th>Sex_female</th>\n",
       "      <th>Embarked_C</th>\n",
       "      <th>Embarked_Q</th>\n",
       "    </tr>\n",
       "  </thead>\n",
       "  <tbody>\n",
       "    <tr>\n",
       "      <th>0</th>\n",
       "      <td>3</td>\n",
       "      <td>22.0</td>\n",
       "      <td>1</td>\n",
       "      <td>0</td>\n",
       "      <td>7.2500</td>\n",
       "      <td>0</td>\n",
       "      <td>0</td>\n",
       "      <td>0</td>\n",
       "    </tr>\n",
       "    <tr>\n",
       "      <th>1</th>\n",
       "      <td>1</td>\n",
       "      <td>38.0</td>\n",
       "      <td>1</td>\n",
       "      <td>0</td>\n",
       "      <td>71.2833</td>\n",
       "      <td>1</td>\n",
       "      <td>1</td>\n",
       "      <td>0</td>\n",
       "    </tr>\n",
       "    <tr>\n",
       "      <th>2</th>\n",
       "      <td>3</td>\n",
       "      <td>26.0</td>\n",
       "      <td>0</td>\n",
       "      <td>0</td>\n",
       "      <td>7.9250</td>\n",
       "      <td>1</td>\n",
       "      <td>0</td>\n",
       "      <td>0</td>\n",
       "    </tr>\n",
       "    <tr>\n",
       "      <th>3</th>\n",
       "      <td>1</td>\n",
       "      <td>35.0</td>\n",
       "      <td>1</td>\n",
       "      <td>0</td>\n",
       "      <td>53.1000</td>\n",
       "      <td>1</td>\n",
       "      <td>0</td>\n",
       "      <td>0</td>\n",
       "    </tr>\n",
       "    <tr>\n",
       "      <th>4</th>\n",
       "      <td>3</td>\n",
       "      <td>35.0</td>\n",
       "      <td>0</td>\n",
       "      <td>0</td>\n",
       "      <td>8.0500</td>\n",
       "      <td>0</td>\n",
       "      <td>0</td>\n",
       "      <td>0</td>\n",
       "    </tr>\n",
       "  </tbody>\n",
       "</table>\n",
       "</div>"
      ],
      "text/plain": [
       "   Pclass   Age  SibSp  Parch     Fare  Sex_female  Embarked_C  Embarked_Q\n",
       "0       3  22.0      1      0   7.2500           0           0           0\n",
       "1       1  38.0      1      0  71.2833           1           1           0\n",
       "2       3  26.0      0      0   7.9250           1           0           0\n",
       "3       1  35.0      1      0  53.1000           1           0           0\n",
       "4       3  35.0      0      0   8.0500           0           0           0"
      ]
     },
     "execution_count": 11,
     "metadata": {},
     "output_type": "execute_result"
    }
   ],
   "source": [
    "# get a dataframe with only numerical input variables\n",
    "df_X = pd.concat([df[['Pclass', 'Age', 'SibSp', 'Parch', 'Fare']], df_sex['Sex_female'], \n",
    "                  df_embarked[['Embarked_C', 'Embarked_Q']]], axis=1, join='inner')\n",
    "print(\"df_X.shape =\", df_X.shape)\n",
    "df_X.head(5)"
   ]
  },
  {
   "cell_type": "code",
   "execution_count": 12,
   "id": "af944a0c",
   "metadata": {},
   "outputs": [
    {
     "name": "stdout",
     "output_type": "stream",
     "text": [
      "Columns with missing values: ['Age']\n"
     ]
    }
   ],
   "source": [
    "# find columns with missing values\n",
    "columns_with_missing = []\n",
    "for column in df_X.columns:\n",
    "    if len(list(df_X[column].isna().value_counts())) > 1:\n",
    "        columns_with_missing.append(column)\n",
    "\n",
    "print(\"Columns with missing values:\", columns_with_missing)"
   ]
  },
  {
   "cell_type": "code",
   "execution_count": 13,
   "id": "2a723dd7",
   "metadata": {},
   "outputs": [
    {
     "data": {
      "text/plain": [
       "False    891\n",
       "Name: Age, dtype: int64"
      ]
     },
     "execution_count": 13,
     "metadata": {},
     "output_type": "execute_result"
    }
   ],
   "source": [
    "# impute the missing with column mean\n",
    "df_X.fillna(value=df_X['Age'].mean(), inplace=True)\n",
    "\n",
    "df_X['Age'].isna().value_counts()"
   ]
  },
  {
   "cell_type": "code",
   "execution_count": 14,
   "id": "3828c245",
   "metadata": {},
   "outputs": [
    {
     "data": {
      "text/plain": [
       "(8, 891)"
      ]
     },
     "execution_count": 14,
     "metadata": {},
     "output_type": "execute_result"
    }
   ],
   "source": [
    "# create a numpy array of dimension (n_x, m) to hold the input data\n",
    "n_x = df_X.shape[1]\n",
    "X = df_X.to_numpy().T\n",
    "\n",
    "X.shape"
   ]
  },
  {
   "cell_type": "code",
   "execution_count": 15,
   "id": "f5a641e4",
   "metadata": {},
   "outputs": [
    {
     "data": {
      "text/plain": [
       "array([[ 3.        ,  1.        ,  3.        , ...,  3.        ,\n",
       "         1.        ,  3.        ],\n",
       "       [22.        , 38.        , 26.        , ..., 29.69911765,\n",
       "        26.        , 32.        ],\n",
       "       [ 1.        ,  1.        ,  0.        , ...,  1.        ,\n",
       "         0.        ,  0.        ],\n",
       "       ...,\n",
       "       [ 0.        ,  1.        ,  1.        , ...,  1.        ,\n",
       "         0.        ,  0.        ],\n",
       "       [ 0.        ,  1.        ,  0.        , ...,  0.        ,\n",
       "         1.        ,  0.        ],\n",
       "       [ 0.        ,  0.        ,  0.        , ...,  0.        ,\n",
       "         0.        ,  1.        ]])"
      ]
     },
     "execution_count": 15,
     "metadata": {},
     "output_type": "execute_result"
    }
   ],
   "source": [
    "# spot check if X has been created properly \n",
    "X"
   ]
  },
  {
   "cell_type": "markdown",
   "id": "7bd93905",
   "metadata": {},
   "source": [
    "# Create helper functions needed for forward prop and back prop"
   ]
  },
  {
   "cell_type": "code",
   "execution_count": 16,
   "id": "0bcc3403",
   "metadata": {},
   "outputs": [
    {
     "data": {
      "text/plain": [
       "array([[ 1, -2,  3],\n",
       "       [ 4,  5, -6]])"
      ]
     },
     "execution_count": 16,
     "metadata": {},
     "output_type": "execute_result"
    }
   ],
   "source": [
    "Z_test = np.array([[1, -2, 3], [4, 5, -6]])\n",
    "Z_test"
   ]
  },
  {
   "cell_type": "code",
   "execution_count": 17,
   "id": "72b8f603",
   "metadata": {},
   "outputs": [
    {
     "name": "stdout",
     "output_type": "stream",
     "text": [
      "(1, 3)\n",
      "(1, 3)\n"
     ]
    }
   ],
   "source": [
    "Y_test = np.array([[1, 0, 1]])\n",
    "Yhat_test = np.array([[0.3, 0.2, 0.1]])\n",
    "print(Y_test.shape)\n",
    "print(Yhat_test.shape)"
   ]
  },
  {
   "cell_type": "code",
   "execution_count": 18,
   "id": "ec1bfac0",
   "metadata": {},
   "outputs": [
    {
     "name": "stdout",
     "output_type": "stream",
     "text": [
      "A_test.shape: (2, 3)\n",
      "W_test.shape: (3, 2)\n",
      "b_test.shape: (3, 1)\n"
     ]
    }
   ],
   "source": [
    "A_test = np.array([[1, -2, 3], [-4, -5, 6]])\n",
    "W_test = np.array([[3, -5], [0.5, -1], [-2, 1.5]])\n",
    "b_test = np.array([[0], [0.1], [-2.3]])\n",
    "print(\"A_test.shape:\", A_test.shape)\n",
    "print(\"W_test.shape:\", W_test.shape)\n",
    "print(\"b_test.shape:\", b_test.shape)"
   ]
  },
  {
   "cell_type": "markdown",
   "id": "26d9b4b1",
   "metadata": {},
   "source": [
    "### Sigmoid"
   ]
  },
  {
   "cell_type": "code",
   "execution_count": 19,
   "id": "cc1b81d8",
   "metadata": {},
   "outputs": [
    {
     "name": "stdout",
     "output_type": "stream",
     "text": [
      "(2, 3)\n",
      "[[0.73105858 0.11920292 0.95257413]\n",
      " [0.98201379 0.99330715 0.00247262]]\n"
     ]
    }
   ],
   "source": [
    "def sigmoid(Z):\n",
    "    \"\"\"\n",
    "    This function returns the sigmoid transformation of the input array Z.\n",
    "    \"\"\"\n",
    "    \n",
    "    return 1 / (1 + np.exp(-Z))\n",
    "\n",
    "\n",
    "# test\n",
    "A_test = sigmoid(Z_test)\n",
    "print(A_test.shape)\n",
    "print(A_test)"
   ]
  },
  {
   "cell_type": "code",
   "execution_count": 20,
   "id": "22031a02",
   "metadata": {},
   "outputs": [
    {
     "name": "stdout",
     "output_type": "stream",
     "text": [
      "(2, 3)\n",
      "[[0.19661193 0.10499359 0.04517666]\n",
      " [0.01766271 0.00664806 0.00246651]]\n"
     ]
    }
   ],
   "source": [
    "def sigmoid_prime(Z, sigmoid_func=sigmoid):\n",
    "    \"\"\"\n",
    "    This function returns the derivative of Sigmoid of the input Z.\n",
    "    \"\"\"\n",
    "    \n",
    "    return np.multiply(sigmoid_func(Z), (1 - sigmoid_func(Z)))\n",
    "\n",
    "\n",
    "# test\n",
    "dgdZ_test = sigmoid_prime(Z_test)\n",
    "print(dgdZ_test.shape)\n",
    "print(dgdZ_test)"
   ]
  },
  {
   "cell_type": "markdown",
   "id": "8fc5577a",
   "metadata": {},
   "source": [
    "### Relu and its derivative"
   ]
  },
  {
   "cell_type": "code",
   "execution_count": 21,
   "id": "cb86efa9",
   "metadata": {},
   "outputs": [
    {
     "name": "stdout",
     "output_type": "stream",
     "text": [
      "(2, 3)\n",
      "[[1 0 3]\n",
      " [4 5 0]]\n"
     ]
    }
   ],
   "source": [
    "def ReLu(Z):\n",
    "    \"\"\"\n",
    "    This function returns the ReLu transformation of the input array Z.\n",
    "    \"\"\"\n",
    "    \n",
    "    return np.maximum(0, Z)\n",
    "\n",
    "\n",
    "# test\n",
    "A_test = ReLu(Z_test)\n",
    "print(A_test.shape)\n",
    "print(A_test)"
   ]
  },
  {
   "cell_type": "code",
   "execution_count": 22,
   "id": "a4564f04",
   "metadata": {},
   "outputs": [
    {
     "name": "stdout",
     "output_type": "stream",
     "text": [
      "(2, 3)\n",
      "[[1 0 1]\n",
      " [1 1 0]]\n"
     ]
    }
   ],
   "source": [
    "def ReLu_prime(Z):\n",
    "    \"\"\"\n",
    "    This function returns the derivative of Relu of the input array Z.\n",
    "    \"\"\"\n",
    "    \n",
    "    return np.where(Z < 0, 0, 1)\n",
    "\n",
    "\n",
    "# test\n",
    "A_test = ReLu_prime(Z_test)\n",
    "print(A_test.shape)\n",
    "print(A_test)"
   ]
  },
  {
   "cell_type": "markdown",
   "id": "99b02b6d",
   "metadata": {},
   "source": [
    "### Cost function for the logistic regression model"
   ]
  },
  {
   "cell_type": "code",
   "execution_count": 23,
   "id": "8e04366a",
   "metadata": {},
   "outputs": [
    {
     "name": "stdout",
     "output_type": "stream",
     "text": [
      "Y_test = [[1 0 1]]\n",
      "Yhat_test = [[0.3 0.2 0.1]]\n",
      "cost_test = [[1.2039728  0.22314355 2.30258509]]\n"
     ]
    }
   ],
   "source": [
    "def cost_logistic(Y, Yhat):\n",
    "    \"\"\"\n",
    "    This function returns the cost of a logistic regression, given Y and Yhat.\n",
    "    \"\"\"\n",
    "    \n",
    "    return -(np.multiply(Y, np.log(Yhat)) + np.multiply((1 - Y), np.log(1 - Yhat)))\n",
    "\n",
    "\n",
    "# test\n",
    "print(\"Y_test =\", Y_test)\n",
    "print(\"Yhat_test =\", Yhat_test)\n",
    "cost_test = cost_logistic(Y_test, Yhat_test)\n",
    "print(\"cost_test =\", cost_test)"
   ]
  },
  {
   "cell_type": "markdown",
   "id": "16c77492",
   "metadata": {},
   "source": [
    "### Function to compute dA of the last layer L"
   ]
  },
  {
   "cell_type": "code",
   "execution_count": 24,
   "id": "1ac51c22",
   "metadata": {},
   "outputs": [
    {
     "name": "stdout",
     "output_type": "stream",
     "text": [
      "Y_test = [[1 0 1]]\n",
      "AL_test = [[0.3 0.2 0.1]]\n",
      "dAL_test = [[ -3.33333333   1.25       -10.        ]]\n"
     ]
    }
   ],
   "source": [
    "def dAL(Y, AL):\n",
    "    \"\"\"\n",
    "    This function returns dA of layer L (the last layer), given Y and A of layer L.\n",
    "    \"\"\"\n",
    "    \n",
    "    return -Y / AL + (1 - Y) / (1 - AL)\n",
    "\n",
    "    \n",
    "# test\n",
    "print(\"Y_test =\", Y_test)\n",
    "print(\"AL_test =\", Yhat_test)\n",
    "print(\"dAL_test =\", dAL(Y_test, Yhat_test))"
   ]
  },
  {
   "cell_type": "markdown",
   "id": "fcbf5158",
   "metadata": {},
   "source": [
    "### Funtion to perform one layer of forward pass"
   ]
  },
  {
   "cell_type": "code",
   "execution_count": 25,
   "id": "d2fb5d24",
   "metadata": {},
   "outputs": [
    {
     "name": "stdout",
     "output_type": "stream",
     "text": [
      "A_in = [[1 0 1]\n",
      " [1 1 0]]\n",
      "W = [[ 3.  -5. ]\n",
      " [ 0.5 -1. ]\n",
      " [-2.   1.5]]\n",
      "b = [[ 0. ]\n",
      " [ 0.1]\n",
      " [-2.3]]\n",
      "Z_out = [[-2.  -5.   3. ]\n",
      " [-0.4 -0.9  0.6]\n",
      " [-2.8 -0.8 -4.3]]\n",
      "A_out = [[0.  0.  3. ]\n",
      " [0.  0.  0.6]\n",
      " [0.  0.  0. ]]\n"
     ]
    }
   ],
   "source": [
    "def forward_prop(A_in, W, b, g):\n",
    "    \"\"\"\n",
    "    This function computes the activisions of the current layer \"l\", vectorized.\n",
    "    \n",
    "    Inputs:\n",
    "        \"A_in\" - a numpy array of (n[l-1], m), activisions of the previous layer\n",
    "        \"W\" - a numpy array of (n[l], n[l-1]), weights of the current layer\n",
    "        \"b\" - a numpy array of (n[l], 1), intercepts of the current layer\n",
    "        \"g\" - a function object, the activision function of the current layer\n",
    "    \"\"\"\n",
    "    \n",
    "    Z_out = np.dot(W, A_in) + b\n",
    "    A_out = g(Z_out)\n",
    "    \n",
    "    return Z_out, A_out\n",
    "\n",
    "\n",
    "# test\n",
    "print(\"A_in =\", A_test)\n",
    "print(\"W =\", W_test)\n",
    "print(\"b =\", b_test)\n",
    "Z_out_test, A_out_test = forward_prop(A_test, W_test, b_test, g=ReLu)\n",
    "print(\"Z_out =\", Z_out_test)\n",
    "print(\"A_out =\", A_out_test)"
   ]
  },
  {
   "cell_type": "markdown",
   "id": "1e7587d6",
   "metadata": {},
   "source": [
    "### Function to perform one layer of backprop "
   ]
  },
  {
   "cell_type": "code",
   "execution_count": 26,
   "id": "ae6e473f",
   "metadata": {
    "scrolled": false
   },
   "outputs": [
    {
     "name": "stdout",
     "output_type": "stream",
     "text": [
      "dA_l = [[ 5.   3.   1. ]\n",
      " [ 2.   4.  -6. ]\n",
      " [-0.3  5.  -0.7]]\n",
      "Z_l = [[-2.   3.  -4. ]\n",
      " [ 0.   1.  -5. ]\n",
      " [ 1.  -2.   0.5]]\n",
      "W_l = [[ 3.  -5. ]\n",
      " [ 0.5 -1. ]\n",
      " [-2.   1.5]]\n",
      "A_lmone = [[1 0 1]\n",
      " [1 1 0]]\n",
      "g_prime is ReLu_prime\n",
      "m = 3\n",
      "dW_l = [[ 0.          1.        ]\n",
      " [ 0.66666667  2.        ]\n",
      " [-0.33333333 -0.1       ]]\n",
      "db_l = [[ 1.        ]\n",
      " [ 2.        ]\n",
      " [-0.33333333]]\n",
      "dA_lmone = [[  1.6   11.     1.4 ]\n",
      " [ -2.45 -19.    -1.05]]\n"
     ]
    }
   ],
   "source": [
    "def back_prop(dA_l, Z_l, W_l, A_lmone, g_prime, m):\n",
    "    \"\"\"\n",
    "    This function performs one layer of back prop.\n",
    "    \n",
    "    It takes dA of layer l as the input, and returns dW of layer l, db of layer l, \n",
    "    and dA of layer l-1 as the outputs.\n",
    "    \n",
    "    Inputs:\n",
    "        \"dA_l\": a numpy array of dimension (n[l], m) for dA of layer l, where n[l] is the number of \n",
    "        neurons in layer l,\n",
    "                and m is the number of observations\n",
    "        \"Z_l\": a numpy array of dimension (n[l], m) for Z of layer l\n",
    "        \"W_l\": a numpy array of dimension (n[l], n[l-1]) for W of layer l, where n[l-1] is the number of neurons in layer l-1\n",
    "        \"A_lmone\": a numpy array of dimension (n[l-1], m) for activisions of layer l-1\n",
    "        \"g_prime\": a function object for the derivative of the activition function of layer l \n",
    "        \"m\": number of observations in the training sample\n",
    "    \"\"\"\n",
    "    \n",
    "    dZ_l = np.multiply(dA_l, g_prime(Z_l))\n",
    "    dW_l = np.dot(dZ_l, A_lmone.T) / m\n",
    "    db_l = np.sum(dZ_l, axis=1, keepdims=True) / m\n",
    "    dA_lmone = np.dot(W_l.T, dZ_l)\n",
    "    \n",
    "    return dW_l, db_l, dA_lmone\n",
    "\n",
    "\n",
    "# test \n",
    "# assume the current layer \"l\" has 3 units, and the previous layer \"l-1\" has 2\n",
    "# assume there are 3 observations (m = 3)\n",
    "dA_test = np.array([[5, 3, 1], [2, 4, -6], [-0.3, 5, -0.7]])\n",
    "Z_test = np.array([[-2, 3, -4], [0, 1, -5], [1, -2, 0.5]])\n",
    "print(\"dA_l =\", dA_test)\n",
    "print(\"Z_l =\", Z_test)\n",
    "print(\"W_l =\", W_test)\n",
    "print(\"A_lmone =\", A_test)\n",
    "print(\"g_prime is ReLu_prime\")\n",
    "print(\"m =\", 3)\n",
    "\n",
    "dW_l_test, db_l_test, dA_lmone_test = back_prop(dA_test, Z_test, W_test, A_test, ReLu_prime, 3)\n",
    "\n",
    "print(\"dW_l =\", dW_l_test)\n",
    "print(\"db_l =\", db_l_test)\n",
    "print(\"dA_lmone =\", dA_lmone_test)"
   ]
  },
  {
   "cell_type": "markdown",
   "id": "221a16c6",
   "metadata": {},
   "source": [
    "### Test setup for end to end forward and backward passes"
   ]
  },
  {
   "cell_type": "code",
   "execution_count": 27,
   "id": "3bc4e6ce",
   "metadata": {},
   "outputs": [],
   "source": [
    "# set up test inputs\n",
    "# assume a 3-layer neural net, with n_0 or n_x = 2, n_1 = 3, n_2 = 2, n_3 = 1\n",
    "# assume m = 3\n",
    "X_test = np.array([[1, 2, -1], \n",
    "                   [-4, 0, 3]])\n",
    "Y_test = np.array([[0, 0, 1]])\n",
    "num_layers_test = 3\n",
    "W_list_test = [\n",
    "    None,\n",
    "    np.array([[0.5, -1.6],\n",
    "              [2.3, 1.2],\n",
    "              [0.2, 0.7]]),\n",
    "    np.array([[2.0, -0.2, 1.5],\n",
    "              [-1, 0.2, 0.7]]),\n",
    "    np.array([[0.4, -1.3]])\n",
    "]\n",
    "b_list_test = [\n",
    "    None,\n",
    "    np.array([[0.0], \n",
    "              [2.3], \n",
    "              [-1.9]]),\n",
    "    np.array([[1.5],\n",
    "              [-0.7]]),\n",
    "    np.array([[1.0]])\n",
    "]\n",
    "g_list_test = [\n",
    "    None,\n",
    "    ReLu,\n",
    "    ReLu,\n",
    "    sigmoid\n",
    "]\n",
    "gprime_list_test = [\n",
    "    None,\n",
    "    ReLu_prime,\n",
    "    ReLu_prime,\n",
    "    sigmoid_prime\n",
    "]"
   ]
  },
  {
   "cell_type": "markdown",
   "id": "a5557cfe",
   "metadata": {},
   "source": [
    "### Function to perform a full forward pass"
   ]
  },
  {
   "cell_type": "code",
   "execution_count": 28,
   "id": "b76b51fd",
   "metadata": {},
   "outputs": [
    {
     "name": "stdout",
     "output_type": "stream",
     "text": [
      "Z_list_test:\n",
      "[array([[ 1,  2, -1],\n",
      "       [-4,  0,  3]]), array([[ 6.9,  1. , -5.3],\n",
      "       [-0.2,  6.9,  3.6],\n",
      "       [-4.5, -1.5,  0. ]]), array([[15.3 ,  2.12,  0.78],\n",
      "       [-7.6 , -0.32,  0.02]]), array([[7.12 , 1.848, 1.286]])]\n",
      "A_list_test:\n",
      "[array([[ 1,  2, -1],\n",
      "       [-4,  0,  3]]), array([[6.9, 1. , 0. ],\n",
      "       [0. , 6.9, 3.6],\n",
      "       [0. , 0. , 0. ]]), array([[15.3 ,  2.12,  0.78],\n",
      "       [ 0.  ,  0.  ,  0.02]]), array([[0.99919189, 0.86389211, 0.78346938]])]\n",
      "J_test = [3.11971304]\n"
     ]
    }
   ],
   "source": [
    "def forward_prop_full(X, Y, num_layers, W_list, b_list, g_list):\n",
    "    \"\"\"\n",
    "    This function does a full round of forward pass from the first to the last layer of the neural network,\n",
    "    and returns the Z & A of each layer, as well as the value of the cost function.\n",
    "    \"\"\"\n",
    "    \n",
    "    if len(W_list) != num_layers + 1 or len(b_list) != num_layers + 1 or len(g_list) != num_layers + 1:\n",
    "        raise Exception(\"Invalid length for input list(s).\")\n",
    "    \n",
    "    # initialize the list for Z and A, both with X to represent Z and A of layer 0, the input layer\n",
    "    Z_list = [X]\n",
    "    A_list = [X]\n",
    "    \n",
    "    # loop through all layers\n",
    "    # layer indexed 0 represents the first layer after the input layer\n",
    "    for i in range(1, num_layers+1):\n",
    "        A_in = A_list[i-1]\n",
    "        \n",
    "        # perform one layer of forward pass\n",
    "        Z_out, A_out = forward_prop(A_in, W_list[i], b_list[i], g_list[i])\n",
    "        \n",
    "        # append the output Z and A of the current layer to the output lists\n",
    "        Z_list.append(Z_out)\n",
    "        A_list.append(A_out)\n",
    "        \n",
    "    # compute the updated value for the logistic cost function\n",
    "    J = -(np.multiply(Y, np.log(A_list[-1])) + np.multiply((1 - Y), np.log(1 - A_list[-1])))\n",
    "    J = np.sum(J, axis=1) / Y.shape[1]\n",
    "    \n",
    "    return Z_list, A_list, J\n",
    "\n",
    "\n",
    "# run a full forward pass\n",
    "Z_list_test, A_list_test, J_test = forward_prop_full(X=X_test,\n",
    "                                                     Y=Y_test,\n",
    "                                                     num_layers=num_layers_test,\n",
    "                                                     W_list=W_list_test,\n",
    "                                                     b_list=b_list_test,\n",
    "                                                     g_list=g_list_test)\n",
    "\n",
    "# print out results\n",
    "print(\"Z_list_test:\")\n",
    "print(Z_list_test)\n",
    "print(\"A_list_test:\")\n",
    "print(A_list_test)\n",
    "print(\"J_test =\", J_test)"
   ]
  },
  {
   "cell_type": "markdown",
   "id": "63606359",
   "metadata": {},
   "source": [
    "### Function to perform a full backward pass"
   ]
  },
  {
   "cell_type": "code",
   "execution_count": 29,
   "id": "58b24284",
   "metadata": {},
   "outputs": [
    {
     "name": "stdout",
     "output_type": "stream",
     "text": [
      "Z_list_test: [array([[ 1,  2, -1],\n",
      "       [-4,  0,  3]]), array([[ 6.9,  1. , -5.3],\n",
      "       [-0.2,  6.9,  3.6],\n",
      "       [-4.5, -1.5,  0. ]]), array([[15.3 ,  2.12,  0.78],\n",
      "       [-7.6 , -0.32,  0.02]]), array([[7.12 , 1.848, 1.286]])]\n",
      "A_list_test: [array([[ 1,  2, -1],\n",
      "       [-4,  0,  3]]), array([[6.9, 1. , 0. ],\n",
      "       [0. , 6.9, 3.6],\n",
      "       [0. , 0. , 0. ]]), array([[15.3 ,  2.12,  0.78],\n",
      "       [ 0.  ,  0.  ,  0.02]]), array([[0.99919189, 0.86389211, 0.78346938]])]\n",
      "Y_test: [[0 0 1]]\n",
      "num_layers_test: 3\n",
      "gprime_list_test: [None, <function ReLu_prime at 0x7f569ba74670>, <function ReLu_prime at 0x7f569ba74670>, <function sigmoid_prime at 0x7f569ba74820>]\n",
      "W_list_test: [None, array([[ 0.5, -1.6],\n",
      "       [ 2.3,  1.2],\n",
      "       [ 0.2,  0.7]]), array([[ 2. , -0.2,  1.5],\n",
      "       [-1. ,  0.2,  0.7]]), array([[ 0.4, -1.3]])]\n",
      "dW_list_test: [None, array([[ 0.72719363, -1.06580468],\n",
      "       [-0.07061438,  0.07362041],\n",
      "       [-0.02237483,  0.06712449]]), array([[1.03444215, 0.69084604, 0.        ],\n",
      "       [0.        , 0.33778777, 0.        ]]), array([[ 5.65006442e+00, -1.44353748e-03]])]\n",
      "b_list_test: [None, array([[ 0. ],\n",
      "       [ 2.3],\n",
      "       [-1.9]]), array([[ 1.5],\n",
      "       [-0.7]]), array([[1.]])]\n",
      "db_list_test: [None, array([[0.4968224 ],\n",
      "       [0.00150301],\n",
      "       [0.02237483]]), array([[0.21954045],\n",
      "       [0.09382994]]), array([[0.54885112]])]\n"
     ]
    }
   ],
   "source": [
    "def backward_prop_full(Z_list, A_list, Y, num_layers, W_list, gprime_list):\n",
    "    \"\"\"\n",
    "    This function performs a full round of backward propagation through all layers in the neural net,\n",
    "    and returns the gradients of W & b for each layer in a list.\n",
    "    \"\"\"\n",
    "    \n",
    "    # check inputs\n",
    "    # the input lists' lengths should be equal to num_layers + 1 because they all include \n",
    "    # an item for layer 0, while the num_layers only count layers that are not layer 0\n",
    "    if len(W_list) != num_layers + 1 or len(gprime_list) != num_layers + 1:\n",
    "        raise Exception(\"Lengths of inputs do not match.\")\n",
    "        \n",
    "    # set the number of observation to what's implied by the input vector\n",
    "    m = Y.shape[1]\n",
    "        \n",
    "    # initialize the backward pass by calculating dA of the last layer\n",
    "    YHat = A_list[-1]\n",
    "    dAL = -Y / YHat + (1 - Y) / (1 - YHat)\n",
    "    \n",
    "    # loop through all layers from the last to the first, and perform backward prop sequentially for each layer\n",
    "    dA_lmone = None\n",
    "    dW_list = []\n",
    "    db_list = []\n",
    "    \n",
    "    # loop through the layers in reversed order, from the last layer down the the first layer after the input layer\n",
    "    for l in range(num_layers, 0, -1):\n",
    "        \n",
    "        # get dA of the current layer\n",
    "        if l == num_layers:\n",
    "            dA_l = dAL\n",
    "        else:\n",
    "            dA_l = dA_lmone\n",
    "            \n",
    "        # run backward prop for the current layer\n",
    "        dW, db, dA_lmone = back_prop(dA_l, Z_list[l], W_list[l], A_list[l-1], gprime_list[l], m)\n",
    "        \n",
    "        # append the gradients of W and b to the beginning of the output list for W & b for all layers\n",
    "        dW_list.insert(0, dW)\n",
    "        db_list.insert(0, db)\n",
    "        \n",
    "    # insert None to the beginning of both output lists to represent the value for layer 0\n",
    "    dW_list.insert(0, None)\n",
    "    db_list.insert(0, None)\n",
    "        \n",
    "    return dW_list, db_list\n",
    "\n",
    "\n",
    "# test using the test setup above as well as outputs from the full forward pass test run\n",
    "dW_list_test, db_list_test = backward_prop_full(Z_list_test, \n",
    "                                                A_list_test, \n",
    "                                                Y_test, \n",
    "                                                num_layers_test, \n",
    "                                                W_list_test, \n",
    "                                                gprime_list_test)\n",
    "print(\"Z_list_test:\", Z_list_test)\n",
    "print(\"A_list_test:\", A_list_test)\n",
    "print(\"Y_test:\", Y_test)\n",
    "print(\"num_layers_test:\", num_layers_test)\n",
    "print(\"gprime_list_test:\", gprime_list_test)\n",
    "print(\"W_list_test:\", W_list_test)\n",
    "print(\"dW_list_test:\", dW_list_test)\n",
    "print(\"b_list_test:\", b_list_test)\n",
    "print(\"db_list_test:\", db_list_test)"
   ]
  },
  {
   "cell_type": "markdown",
   "id": "26c46481",
   "metadata": {},
   "source": [
    "# Train a deep neural network to fit to the Titanic dataset "
   ]
  },
  {
   "cell_type": "markdown",
   "id": "e2fdd562",
   "metadata": {},
   "source": [
    "### Set up & initialize the network"
   ]
  },
  {
   "cell_type": "code",
   "execution_count": 30,
   "id": "11367541",
   "metadata": {},
   "outputs": [],
   "source": [
    "num_layers_test = 3\n",
    "W_list = [\n",
    "    None,\n",
    "    np.random.randn(2, 8)*0.01,\n",
    "    np.random.randn(3, 2)*0.01,\n",
    "    np.random.randn(1, 3)*0.01\n",
    "]\n",
    "b_list = [\n",
    "    None,\n",
    "    np.zeros((2, 1)),\n",
    "    np.zeros((3, 1)),\n",
    "    np.zeros((1, 1))\n",
    "]\n",
    "g_list = [\n",
    "    None,\n",
    "    ReLu,\n",
    "    ReLu,\n",
    "    sigmoid\n",
    "]\n",
    "gprime_list = [\n",
    "    None,\n",
    "    ReLu_prime,\n",
    "    ReLu_prime,\n",
    "    sigmoid_prime\n",
    "]"
   ]
  }
 ],
 "metadata": {
  "kernelspec": {
   "display_name": "Python 3 (ipykernel)",
   "language": "python",
   "name": "python3"
  },
  "language_info": {
   "codemirror_mode": {
    "name": "ipython",
    "version": 3
   },
   "file_extension": ".py",
   "mimetype": "text/x-python",
   "name": "python",
   "nbconvert_exporter": "python",
   "pygments_lexer": "ipython3",
   "version": "3.8.10"
  }
 },
 "nbformat": 4,
 "nbformat_minor": 5
}
