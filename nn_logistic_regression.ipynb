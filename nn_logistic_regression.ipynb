{
 "cells": [
  {
   "cell_type": "code",
   "execution_count": 1,
   "id": "5a0070ee",
   "metadata": {},
   "outputs": [],
   "source": [
    "import numpy as np"
   ]
  },
  {
   "cell_type": "markdown",
   "id": "67dcb652",
   "metadata": {},
   "source": [
    "# Simulate logistic model data"
   ]
  },
  {
   "cell_type": "code",
   "execution_count": 2,
   "id": "e8f6ec83",
   "metadata": {},
   "outputs": [],
   "source": [
    "# true parameters of the logistic model\n",
    "w = np.array([1, -1]).reshape((2, 1))\n",
    "b = 0.5"
   ]
  },
  {
   "cell_type": "code",
   "execution_count": 3,
   "id": "e88f46d0",
   "metadata": {},
   "outputs": [
    {
     "data": {
      "text/plain": [
       "(2, 10000)"
      ]
     },
     "execution_count": 3,
     "metadata": {},
     "output_type": "execute_result"
    }
   ],
   "source": [
    "# simulate x as a two dimensional column vector, with m examples\n",
    "m = 10000\n",
    "X = np.random.rand(2, m) - 0.5\n",
    "X.shape"
   ]
  },
  {
   "cell_type": "code",
   "execution_count": 4,
   "id": "93b4af27",
   "metadata": {},
   "outputs": [
    {
     "data": {
      "text/plain": [
       "(1, 10000)"
      ]
     },
     "execution_count": 4,
     "metadata": {},
     "output_type": "execute_result"
    }
   ],
   "source": [
    "# simulate y\n",
    "Y = []\n",
    "for i in range(m):\n",
    "    z = np.dot(w.T, X[:, i]) + b\n",
    "    a = 1 / (1 + np.exp(-z))\n",
    "    Y.append(int(np.random.rand(1) < a))\n",
    "\n",
    "# convert y to a numpy column vector\n",
    "Y = np.array(Y).reshape(1, m)\n",
    "Y.shape"
   ]
  },
  {
   "cell_type": "markdown",
   "id": "e5b34c54",
   "metadata": {},
   "source": [
    "# Use gradient descent to fit a logistic regression"
   ]
  },
  {
   "cell_type": "code",
   "execution_count": 5,
   "id": "7f986f47",
   "metadata": {},
   "outputs": [
    {
     "name": "stdout",
     "output_type": "stream",
     "text": [
      "A_test = [[0.9999546  0.99999774 0.99999989]]\n"
     ]
    }
   ],
   "source": [
    "def activate(X, w, b):\n",
    "    \"\"\"\n",
    "    This function calculates and returns the sigmoid activations as a numpy row vector.\n",
    "    \"\"\"\n",
    "    \n",
    "    Z = np.dot(w.T, X) + b\n",
    "    return 1 / (1 + np.exp(-Z))\n",
    "\n",
    "# test\n",
    "X_test = np.array([[1, 2, 3], [4, 5, 6]])\n",
    "w_test = np.array([[1], [2]])\n",
    "b_test = 1\n",
    "A_test = activate(X_test, w_test, b_test)\n",
    "print(\"A_test =\", A_test)"
   ]
  },
  {
   "cell_type": "code",
   "execution_count": 6,
   "id": "7f2b1676",
   "metadata": {},
   "outputs": [
    {
     "name": "stdout",
     "output_type": "stream",
     "text": [
      "dw = [[-1.33333333]\n",
      " [-2.33333333]]\n",
      "db = -0.3333333333333333\n"
     ]
    }
   ],
   "source": [
    "def gradients(X, A, Y):\n",
    "    \"\"\"\n",
    "    This function does the backward prop to compute the gradients of parameters.\n",
    "    \"\"\"\n",
    "    \n",
    "    dZ = A - Y\n",
    "    m = X.shape[1]\n",
    "    dw = np.dot(X, dZ.T) / m\n",
    "    db = np.sum(dZ) / m\n",
    "    \n",
    "    return dw, db\n",
    "\n",
    "# test\n",
    "X_test = np.array([[1, 2, 3], [4, 5, 6]])\n",
    "A_test = np.array([[2, 4, 6]])\n",
    "Y_test = np.array([[1, 5, 7]])\n",
    "\n",
    "dw, db = gradients(X_test, A_test, Y_test)\n",
    "print(\"dw =\", dw)\n",
    "print(\"db =\", db)"
   ]
  },
  {
   "cell_type": "markdown",
   "id": "bd5b89f5",
   "metadata": {},
   "source": [
    "### Loop through iterations to optimize the logistic model parameters, using gradient descent"
   ]
  },
  {
   "cell_type": "code",
   "execution_count": 7,
   "id": "94f53820",
   "metadata": {},
   "outputs": [
    {
     "name": "stdout",
     "output_type": "stream",
     "text": [
      "w_model = [[ 1.04964056]\n",
      " [-1.05649042]]\n",
      "b_model = 0.4972194955253378\n"
     ]
    }
   ],
   "source": [
    "n_iter = 10000\n",
    "alpha = 0.1\n",
    "w_model = np.zeros((2, 1))\n",
    "b_model = 0.0\n",
    "\n",
    "for i in range(n_iter):\n",
    "    A = activate(X, w_model, b_model)\n",
    "    dw_model, db_model = gradients(X, A, Y)\n",
    "    w_model = w_model - alpha * dw_model\n",
    "    b_model = b_model - alpha * db_model\n",
    "    \n",
    "print(\"w_model =\", w_model)\n",
    "print(\"b_model =\", b_model)"
   ]
  },
  {
   "cell_type": "code",
   "execution_count": null,
   "id": "10a631b5",
   "metadata": {},
   "outputs": [],
   "source": []
  }
 ],
 "metadata": {
  "kernelspec": {
   "display_name": "Python 3 (ipykernel)",
   "language": "python",
   "name": "python3"
  },
  "language_info": {
   "codemirror_mode": {
    "name": "ipython",
    "version": 3
   },
   "file_extension": ".py",
   "mimetype": "text/x-python",
   "name": "python",
   "nbconvert_exporter": "python",
   "pygments_lexer": "ipython3",
   "version": "3.8.10"
  }
 },
 "nbformat": 4,
 "nbformat_minor": 5
}
