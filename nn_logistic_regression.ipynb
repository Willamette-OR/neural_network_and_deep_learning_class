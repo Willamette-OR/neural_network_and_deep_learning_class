{
 "cells": [
  {
   "cell_type": "code",
   "execution_count": 1,
   "id": "3e9bcef1",
   "metadata": {},
   "outputs": [],
   "source": [
    "import numpy as np"
   ]
  },
  {
   "cell_type": "markdown",
   "id": "af73665d",
   "metadata": {},
   "source": [
    "# Simulate logistic model data"
   ]
  },
  {
   "cell_type": "code",
   "execution_count": 34,
   "id": "4cd1d7e8",
   "metadata": {},
   "outputs": [],
   "source": [
    "# true parameters of the logistic model\n",
    "w = np.array([1, -1]).reshape((2, 1))\n",
    "b = 0.5"
   ]
  },
  {
   "cell_type": "code",
   "execution_count": 35,
   "id": "7d869ad0",
   "metadata": {},
   "outputs": [
    {
     "data": {
      "text/plain": [
       "(2, 1000)"
      ]
     },
     "execution_count": 35,
     "metadata": {},
     "output_type": "execute_result"
    }
   ],
   "source": [
    "# simulate x as a two dimensional column vector, with m examples\n",
    "m = 1000\n",
    "x = np.random.rand(2, m) - 0.5\n",
    "x.shape"
   ]
  },
  {
   "cell_type": "code",
   "execution_count": 43,
   "id": "a5c25939",
   "metadata": {},
   "outputs": [
    {
     "data": {
      "text/plain": [
       "(1000, 1)"
      ]
     },
     "execution_count": 43,
     "metadata": {},
     "output_type": "execute_result"
    }
   ],
   "source": [
    "# simulate y\n",
    "y = []\n",
    "for i in range(m):\n",
    "    z = np.dot(w.T, x[:, i]) + b\n",
    "    a = 1 / (1 + np.exp(-z))\n",
    "    y.append(int(np.random.rand(1) < a))\n",
    "\n",
    "# convert y to a numpy column vector\n",
    "y = np.array(y).reshape(m, 1)\n",
    "y.shape"
   ]
  },
  {
   "cell_type": "code",
   "execution_count": null,
   "id": "df955fa8",
   "metadata": {},
   "outputs": [],
   "source": []
  }
 ],
 "metadata": {
  "kernelspec": {
   "display_name": "Python 3 (ipykernel)",
   "language": "python",
   "name": "python3"
  },
  "language_info": {
   "codemirror_mode": {
    "name": "ipython",
    "version": 3
   },
   "file_extension": ".py",
   "mimetype": "text/x-python",
   "name": "python",
   "nbconvert_exporter": "python",
   "pygments_lexer": "ipython3",
   "version": "3.8.10"
  }
 },
 "nbformat": 4,
 "nbformat_minor": 5
}
