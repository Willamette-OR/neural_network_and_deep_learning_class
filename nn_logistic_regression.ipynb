{
 "cells": [
  {
   "cell_type": "code",
   "execution_count": 1,
   "id": "ac6f8e2f",
   "metadata": {},
   "outputs": [],
   "source": [
    "import numpy as np"
   ]
  },
  {
   "cell_type": "markdown",
   "id": "65ba4800",
   "metadata": {},
   "source": [
    "# Simulate logistic model data"
   ]
  },
  {
   "cell_type": "code",
   "execution_count": 47,
   "id": "fc4a4ef8",
   "metadata": {},
   "outputs": [],
   "source": [
    "# true parameters of the logistic model\n",
    "w = np.array([1, -1]).reshape((2, 1))\n",
    "b = 0.5"
   ]
  },
  {
   "cell_type": "code",
   "execution_count": 48,
   "id": "df3e20a4",
   "metadata": {},
   "outputs": [
    {
     "data": {
      "text/plain": [
       "(2, 1000)"
      ]
     },
     "execution_count": 48,
     "metadata": {},
     "output_type": "execute_result"
    }
   ],
   "source": [
    "# simulate x as a two dimensional column vector, with m examples\n",
    "m = 1000\n",
    "x = np.random.rand(2, m) - 0.5\n",
    "x.shape"
   ]
  },
  {
   "cell_type": "code",
   "execution_count": 49,
   "id": "50d91d50",
   "metadata": {},
   "outputs": [
    {
     "data": {
      "text/plain": [
       "(1000, 1)"
      ]
     },
     "execution_count": 49,
     "metadata": {},
     "output_type": "execute_result"
    }
   ],
   "source": [
    "# simulate y\n",
    "y = []\n",
    "for i in range(m):\n",
    "    z = np.dot(w.T, x[:, i]) + b\n",
    "    a = 1 / (1 + np.exp(-z))\n",
    "    y.append(int(np.random.rand(1) < a))\n",
    "\n",
    "# convert y to a numpy column vector\n",
    "y = np.array(y).reshape(m, 1)\n",
    "y.shape"
   ]
  },
  {
   "cell_type": "markdown",
   "id": "bcfdf815",
   "metadata": {},
   "source": [
    "# Use gradient descent to fit a logistic regression"
   ]
  },
  {
   "cell_type": "code",
   "execution_count": 50,
   "id": "be679f01",
   "metadata": {},
   "outputs": [
    {
     "data": {
      "text/plain": [
       "(2, 1)"
      ]
     },
     "execution_count": 50,
     "metadata": {},
     "output_type": "execute_result"
    }
   ],
   "source": [
    "w_model = np.zeros((2, 1))\n",
    "b_model = 0.0\n",
    "w_model.shape"
   ]
  },
  {
   "cell_type": "code",
   "execution_count": 58,
   "id": "3dd8f5c3",
   "metadata": {},
   "outputs": [
    {
     "name": "stdout",
     "output_type": "stream",
     "text": [
      "Shape: (1, 1000)\n",
      "First 10 values: [0.5 0.5 0.5 0.5 0.5 0.5 0.5 0.5 0.5 0.5]\n"
     ]
    }
   ],
   "source": [
    "def activate(X, w, b):\n",
    "    \"\"\"\n",
    "    This function calculates and returns the sigmoid activations as a numpy row vector.\n",
    "    \"\"\"\n",
    "    \n",
    "    Z = np.dot(w.T, X) + b\n",
    "    return 1 / (1 + np.exp(-Z))\n",
    "\n",
    "# test\n",
    "foo = activate(x, w_model, b_model)\n",
    "print(\"Shape:\", foo.shape)\n",
    "print(\"First 10 values:\", foo[0, :10])"
   ]
  },
  {
   "cell_type": "code",
   "execution_count": 68,
   "id": "ff04e901",
   "metadata": {},
   "outputs": [
    {
     "name": "stdout",
     "output_type": "stream",
     "text": [
      "dw = [[ 8.5]\n",
      " [17.5]]\n",
      "db = 4.5\n"
     ]
    }
   ],
   "source": [
    "def gradients(X, A, Y):\n",
    "    \"\"\"\n",
    "    This function does the backward prop to compute the gradients of parameters.\n",
    "    \"\"\"\n",
    "    \n",
    "    dZ = A - Y\n",
    "    m = X.shape[1]\n",
    "    dw = np.dot(X, dZ.T) / m\n",
    "    db = np.sum(dZ) / m\n",
    "    \n",
    "    return dw, db\n",
    "\n",
    "# test\n",
    "X = np.array([[1, 2], [3, 4]])\n",
    "A = np.array([1, 5]).reshape((1, 2))\n",
    "Y = np.array([0, -3]).reshape((1, 2))\n",
    "\n",
    "dw, db = gradients(X, A, Y)\n",
    "print(\"dw =\", dw)\n",
    "print(\"db =\", db)"
   ]
  },
  {
   "cell_type": "code",
   "execution_count": null,
   "id": "1230d02a",
   "metadata": {},
   "outputs": [],
   "source": []
  }
 ],
 "metadata": {
  "kernelspec": {
   "display_name": "Python 3 (ipykernel)",
   "language": "python",
   "name": "python3"
  },
  "language_info": {
   "codemirror_mode": {
    "name": "ipython",
    "version": 3
   },
   "file_extension": ".py",
   "mimetype": "text/x-python",
   "name": "python",
   "nbconvert_exporter": "python",
   "pygments_lexer": "ipython3",
   "version": "3.8.10"
  }
 },
 "nbformat": 4,
 "nbformat_minor": 5
}
