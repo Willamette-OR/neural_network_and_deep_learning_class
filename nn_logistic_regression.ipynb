{
 "cells": [
  {
   "cell_type": "code",
   "execution_count": 1,
   "id": "4e705259",
   "metadata": {},
   "outputs": [],
   "source": [
    "import numpy as np"
   ]
  },
  {
   "cell_type": "markdown",
   "id": "3d01e5c5",
   "metadata": {},
   "source": [
    "# Simulate logistic model data"
   ]
  },
  {
   "cell_type": "code",
   "execution_count": 47,
   "id": "02456ac1",
   "metadata": {},
   "outputs": [],
   "source": [
    "# true parameters of the logistic model\n",
    "w = np.array([1, -1]).reshape((2, 1))\n",
    "b = 0.5"
   ]
  },
  {
   "cell_type": "code",
   "execution_count": 48,
   "id": "7b6ddbed",
   "metadata": {},
   "outputs": [
    {
     "data": {
      "text/plain": [
       "(2, 1000)"
      ]
     },
     "execution_count": 48,
     "metadata": {},
     "output_type": "execute_result"
    }
   ],
   "source": [
    "# simulate x as a two dimensional column vector, with m examples\n",
    "m = 1000\n",
    "x = np.random.rand(2, m) - 0.5\n",
    "x.shape"
   ]
  },
  {
   "cell_type": "code",
   "execution_count": 49,
   "id": "731863b8",
   "metadata": {},
   "outputs": [
    {
     "data": {
      "text/plain": [
       "(1000, 1)"
      ]
     },
     "execution_count": 49,
     "metadata": {},
     "output_type": "execute_result"
    }
   ],
   "source": [
    "# simulate y\n",
    "y = []\n",
    "for i in range(m):\n",
    "    z = np.dot(w.T, x[:, i]) + b\n",
    "    a = 1 / (1 + np.exp(-z))\n",
    "    y.append(int(np.random.rand(1) < a))\n",
    "\n",
    "# convert y to a numpy column vector\n",
    "y = np.array(y).reshape(m, 1)\n",
    "y.shape"
   ]
  },
  {
   "cell_type": "markdown",
   "id": "643e3852",
   "metadata": {},
   "source": [
    "# Use gradient descent to fit a logistic regression"
   ]
  },
  {
   "cell_type": "code",
   "execution_count": 50,
   "id": "02f0fbd5",
   "metadata": {},
   "outputs": [
    {
     "data": {
      "text/plain": [
       "(2, 1)"
      ]
     },
     "execution_count": 50,
     "metadata": {},
     "output_type": "execute_result"
    }
   ],
   "source": [
    "w_model = np.zeros((2, 1))\n",
    "b_model = 0.0\n",
    "w_model.shape"
   ]
  },
  {
   "cell_type": "code",
   "execution_count": 58,
   "id": "0dfe9459",
   "metadata": {},
   "outputs": [
    {
     "name": "stdout",
     "output_type": "stream",
     "text": [
      "Shape: (1, 1000)\n",
      "First 10 values: [0.5 0.5 0.5 0.5 0.5 0.5 0.5 0.5 0.5 0.5]\n"
     ]
    }
   ],
   "source": [
    "def activate(X, w, b):\n",
    "    \"\"\"\n",
    "    This function calculates and returns the sigmoid activations as a numpy row vector.\n",
    "    \"\"\"\n",
    "    \n",
    "    Z = np.dot(w.T, X) + b\n",
    "    return 1 / (1 + np.exp(-Z))\n",
    "\n",
    "# test\n",
    "foo = activate(x, w_model, b_model)\n",
    "print(\"Shape:\", foo.shape)\n",
    "print(\"First 10 values:\", foo[0, :10])"
   ]
  },
  {
   "cell_type": "code",
   "execution_count": null,
   "id": "9e9b7227",
   "metadata": {},
   "outputs": [],
   "source": [
    "def backprop(X, A, Y):\n",
    "    \"\"\"\n",
    "    This function does the backward prop to compute the gradients of parameters.\n",
    "    \"\"\""
   ]
  }
 ],
 "metadata": {
  "kernelspec": {
   "display_name": "Python 3 (ipykernel)",
   "language": "python",
   "name": "python3"
  },
  "language_info": {
   "codemirror_mode": {
    "name": "ipython",
    "version": 3
   },
   "file_extension": ".py",
   "mimetype": "text/x-python",
   "name": "python",
   "nbconvert_exporter": "python",
   "pygments_lexer": "ipython3",
   "version": "3.8.10"
  }
 },
 "nbformat": 4,
 "nbformat_minor": 5
}
